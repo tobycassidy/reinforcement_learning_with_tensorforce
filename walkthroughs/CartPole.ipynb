{
 "cells": [
  {
   "cell_type": "code",
   "execution_count": 1,
   "id": "8fc72608",
   "metadata": {},
   "outputs": [],
   "source": [
    "from tensorforce.environments import Environment \n",
    "from tensorforce.agents import Agent\n",
    "from tensorforce.execution import Runner "
   ]
  },
  {
   "cell_type": "markdown",
   "id": "a4844f29",
   "metadata": {},
   "source": [
    "### Intro to CartPole"
   ]
  },
  {
   "cell_type": "code",
   "execution_count": null,
   "id": "801f1a44",
   "metadata": {},
   "outputs": [],
   "source": []
  },
  {
   "cell_type": "code",
   "execution_count": null,
   "id": "14a5d566",
   "metadata": {},
   "outputs": [],
   "source": []
  },
  {
   "cell_type": "markdown",
   "id": "6e37a863",
   "metadata": {},
   "source": [
    "### Initializing an Environment (with monitoring) \n",
    "\n",
    "Note I needed to `brew install ffmpeg` on my machine for monitoring to work "
   ]
  },
  {
   "cell_type": "code",
   "execution_count": 2,
   "id": "a0a6012c",
   "metadata": {},
   "outputs": [],
   "source": [
    "level = 'CartPole'\n",
    "\n",
    "\n",
    "environment = Environment.create(\n",
    "    environment='gym',\n",
    "    level=level,\n",
    "    max_episode_timesteps=500,\n",
    "    visualize=True,\n",
    "    visualize_directory='../tensorforce/monitor/' + level \n",
    ")"
   ]
  },
  {
   "cell_type": "markdown",
   "id": "923a898b",
   "metadata": {},
   "source": [
    "### Initializing an Agent "
   ]
  },
  {
   "cell_type": "code",
   "execution_count": 3,
   "id": "a0f7082e",
   "metadata": {},
   "outputs": [
    {
     "name": "stderr",
     "output_type": "stream",
     "text": [
      "WARNING:root:Infinite min_value bound for state.\n"
     ]
    }
   ],
   "source": [
    "agent = Agent.create(\n",
    "    agent='tensorforce',\n",
    "    environment=environment,\n",
    "    update=64,\n",
    "    optimizer=dict(optimizer='adam', learning_rate=1e-3),\n",
    "    objective='policy_gradient',\n",
    "    reward_estimation=dict(horizon=20),\n",
    "    summarizer=dict(\n",
    "        directory='../tensorforce/summaries',\n",
    "        summaries='all'\n",
    "    )\n",
    ")"
   ]
  },
  {
   "cell_type": "markdown",
   "id": "1bdf301a",
   "metadata": {},
   "source": [
    "### Execution with the Runner Utility"
   ]
  },
  {
   "cell_type": "code",
   "execution_count": null,
   "id": "908a56f6",
   "metadata": {},
   "outputs": [],
   "source": [
    "runner = Runner(\n",
    "    agent=agent,\n",
    "    environment=environment,\n",
    "    max_episode_timesteps=500\n",
    ")\n",
    "\n",
    "runner.run(num_episodes=200)\n",
    "\n",
    "runner.run(num_episodes=100, evaluation=True)\n",
    "\n",
    "runner.close()"
   ]
  }
 ],
 "metadata": {
  "kernelspec": {
   "display_name": "Python 3 (ipykernel)",
   "language": "python",
   "name": "python3"
  },
  "language_info": {
   "codemirror_mode": {
    "name": "ipython",
    "version": 3
   },
   "file_extension": ".py",
   "mimetype": "text/x-python",
   "name": "python",
   "nbconvert_exporter": "python",
   "pygments_lexer": "ipython3",
   "version": "3.8.13"
  }
 },
 "nbformat": 4,
 "nbformat_minor": 5
}
