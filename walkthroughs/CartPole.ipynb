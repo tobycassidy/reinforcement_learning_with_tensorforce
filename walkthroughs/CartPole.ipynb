{
 "cells": [
  {
   "cell_type": "code",
   "execution_count": 1,
   "id": "d70292c0",
   "metadata": {},
   "outputs": [],
   "source": [
    "from tensorforce.environments import Environment \n",
    "from tensorforce.agents import Agent\n",
    "from tensorforce.execution import Runner "
   ]
  },
  {
   "cell_type": "markdown",
   "id": "29971d8d",
   "metadata": {},
   "source": [
    "### Intro to CartPole"
   ]
  },
  {
   "cell_type": "code",
   "execution_count": null,
   "id": "88f24de6",
   "metadata": {},
   "outputs": [],
   "source": []
  },
  {
   "cell_type": "code",
   "execution_count": null,
   "id": "66c09c66",
   "metadata": {},
   "outputs": [],
   "source": []
  },
  {
   "cell_type": "markdown",
   "id": "167a340c",
   "metadata": {},
   "source": [
    "### Initializing an Environment (with monitoring) \n",
    "\n",
    "Note I needed to `brew install ffmpeg` on my machine for monitoring to work "
   ]
  },
  {
   "cell_type": "code",
   "execution_count": 2,
   "id": "f2703e32",
   "metadata": {},
   "outputs": [],
   "source": [
    "level = 'CartPole'\n",
    "\n",
    "\n",
    "environment = Environment.create(\n",
    "    environment='gym',\n",
    "    level=level,\n",
    "    max_episode_timesteps=500,\n",
    "    visualize=True,\n",
    "    visualize_directory='../tensorforce/monitor/' + level \n",
    ")"
   ]
  },
  {
   "cell_type": "markdown",
   "id": "eddeb395",
   "metadata": {},
   "source": [
    "### Initializing an Agent "
   ]
  },
  {
   "cell_type": "code",
   "execution_count": 3,
   "id": "c2136141",
   "metadata": {},
   "outputs": [
    {
     "name": "stderr",
     "output_type": "stream",
     "text": [
      "WARNING:root:Infinite min_value bound for state.\n"
     ]
    }
   ],
   "source": [
    "agent = Agent.create(\n",
    "    agent='tensorforce',\n",
    "    environment=environment,\n",
    "    update=64,\n",
    "    optimizer=dict(optimizer='adam', learning_rate=1e-3),\n",
    "    objective='policy_gradient',\n",
    "    reward_estimation=dict(horizon=20),\n",
    "    summarizer=dict(\n",
    "        directory='../tensorforce/summaries',\n",
    "        summaries='all'\n",
    "    )\n",
    ")"
   ]
  },
  {
   "cell_type": "markdown",
   "id": "fbb5aea4",
   "metadata": {},
   "source": [
    "### Execution with the Runner Utility"
   ]
  },
  {
   "cell_type": "code",
   "execution_count": 4,
   "id": "500185b8",
   "metadata": {},
   "outputs": [
    {
     "data": {
      "application/vnd.jupyter.widget-view+json": {
       "model_id": "7a1015eff9134c1b94c9a53496dc8639",
       "version_major": 2,
       "version_minor": 0
      },
      "text/plain": [
       "Episodes:   0%|          | 0/300 [00:00, return=0.00, ts/ep=0, sec/ep=0.00, ms/ts=0.0, agent=0.0%]"
      ]
     },
     "metadata": {},
     "output_type": "display_data"
    },
    {
     "data": {
      "application/vnd.jupyter.widget-view+json": {
       "model_id": "e4c0cb6ed11a46b5b8d47492ed5cd5d7",
       "version_major": 2,
       "version_minor": 0
      },
      "text/plain": [
       "Episodes:   0%|          | 0/100 [00:00, return=0.00, ts/ep=0, sec/ep=0.00, ms/ts=0.0, agent=0.0%]"
      ]
     },
     "metadata": {},
     "output_type": "display_data"
    }
   ],
   "source": [
    "runner = Runner(\n",
    "    agent=agent,\n",
    "    environment=environment,\n",
    "    max_episode_timesteps=500\n",
    ")\n",
    "\n",
    "runner.run(num_episodes=300)\n",
    "\n",
    "runner.run(num_episodes=100, evaluation=True)\n",
    "\n",
    "runner.close()"
   ]
  },
  {
   "cell_type": "code",
   "execution_count": 5,
   "id": "4c02592b",
   "metadata": {},
   "outputs": [
    {
     "name": "stdout",
     "output_type": "stream",
     "text": [
      "\n",
      "NOTE: Using experimental fast data loading logic. To disable, pass\n",
      "    \"--load_fast=false\" and report issues on GitHub. More details:\n",
      "    https://github.com/tensorflow/tensorboard/issues/4784\n",
      "\n",
      "Serving TensorBoard on localhost; to expose to the network, use a proxy or pass --bind_all\n",
      "TensorBoard 2.9.0 at http://localhost:6006/ (Press CTRL+C to quit)\n",
      "^C\n"
     ]
    }
   ],
   "source": [
    "!tensorboard --logdir=../tensorforce/summaries"
   ]
  },
  {
   "cell_type": "code",
   "execution_count": null,
   "id": "e6bfd2a7",
   "metadata": {},
   "outputs": [],
   "source": []
  }
 ],
 "metadata": {
  "kernelspec": {
   "display_name": "Python 3 (ipykernel)",
   "language": "python",
   "name": "python3"
  },
  "language_info": {
   "codemirror_mode": {
    "name": "ipython",
    "version": 3
   },
   "file_extension": ".py",
   "mimetype": "text/x-python",
   "name": "python",
   "nbconvert_exporter": "python",
   "pygments_lexer": "ipython3",
   "version": "3.8.13"
  }
 },
 "nbformat": 4,
 "nbformat_minor": 5
}
