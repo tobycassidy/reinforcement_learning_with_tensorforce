{
 "cells": [
  {
   "cell_type": "code",
   "execution_count": 1,
   "id": "c05b8b00",
   "metadata": {},
   "outputs": [],
   "source": [
    "from tensorforce.environments import Environment \n",
    "from tensorforce.agents import Agent\n",
    "from tensorforce.execution import Runner "
   ]
  },
  {
   "cell_type": "markdown",
   "id": "ccf87b83",
   "metadata": {},
   "source": [
    "### Brief Intro to CartPole\n",
    "---\n",
    "\n",
    "CartPole is a 2D game in which an agent has control in moving a cart left or right to balance a perpendicular pole.\n",
    "\n",
    "The game ends if either the poll tilts by more than 15 degrees or the cart moves by more than 2.4 units from the center."
   ]
  },
  {
   "cell_type": "markdown",
   "id": "29afe287",
   "metadata": {},
   "source": [
    "### Initializing an Environment (with monitoring) \n",
    "---\n",
    "\n",
    "Note I needed to `brew install ffmpeg` on my machine for monitoring to work "
   ]
  },
  {
   "cell_type": "code",
   "execution_count": 2,
   "id": "432478e0",
   "metadata": {},
   "outputs": [],
   "source": [
    "level = 'CartPole'\n",
    "\n",
    "\n",
    "environment = Environment.create(\n",
    "    environment='gym',\n",
    "    level=level,\n",
    "    max_episode_timesteps=500,\n",
    "    visualize=True,\n",
    "    visualize_directory='../tensorforce/monitor/' + level \n",
    ")"
   ]
  },
  {
   "cell_type": "markdown",
   "id": "97f03b15",
   "metadata": {},
   "source": [
    "### Initializing an Agent \n",
    "---"
   ]
  },
  {
   "cell_type": "code",
   "execution_count": 3,
   "id": "acd947e2",
   "metadata": {},
   "outputs": [
    {
     "name": "stderr",
     "output_type": "stream",
     "text": [
      "WARNING:root:Infinite min_value bound for state.\n"
     ]
    }
   ],
   "source": [
    "agent = Agent.create(\n",
    "    agent='tensorforce',\n",
    "    environment=environment,\n",
    "    update=64,\n",
    "    optimizer=dict(optimizer='adam', learning_rate=1e-3),\n",
    "    objective='policy_gradient',\n",
    "    reward_estimation=dict(horizon=20),\n",
    "    summarizer=dict(\n",
    "        directory='../tensorforce/summaries',\n",
    "        summaries='all'\n",
    "    )\n",
    ")"
   ]
  },
  {
   "cell_type": "markdown",
   "id": "313681d1",
   "metadata": {},
   "source": [
    "### Execution with the Runner Utility\n",
    "---"
   ]
  },
  {
   "cell_type": "code",
   "execution_count": 4,
   "id": "e1b87afb",
   "metadata": {},
   "outputs": [
    {
     "data": {
      "application/vnd.jupyter.widget-view+json": {
       "model_id": "7a1015eff9134c1b94c9a53496dc8639",
       "version_major": 2,
       "version_minor": 0
      },
      "text/plain": [
       "Episodes:   0%|          | 0/300 [00:00, return=0.00, ts/ep=0, sec/ep=0.00, ms/ts=0.0, agent=0.0%]"
      ]
     },
     "metadata": {},
     "output_type": "display_data"
    },
    {
     "data": {
      "application/vnd.jupyter.widget-view+json": {
       "model_id": "e4c0cb6ed11a46b5b8d47492ed5cd5d7",
       "version_major": 2,
       "version_minor": 0
      },
      "text/plain": [
       "Episodes:   0%|          | 0/100 [00:00, return=0.00, ts/ep=0, sec/ep=0.00, ms/ts=0.0, agent=0.0%]"
      ]
     },
     "metadata": {},
     "output_type": "display_data"
    }
   ],
   "source": [
    "runner = Runner(\n",
    "    agent=agent,\n",
    "    environment=environment,\n",
    "    max_episode_timesteps=500\n",
    ")\n",
    "\n",
    "runner.run(num_episodes=300)\n",
    "\n",
    "runner.run(num_episodes=100, evaluation=True)\n",
    "\n",
    "runner.close()"
   ]
  },
  {
   "cell_type": "code",
   "execution_count": 5,
   "id": "19bd9a94",
   "metadata": {},
   "outputs": [
    {
     "name": "stdout",
     "output_type": "stream",
     "text": [
      "\n",
      "NOTE: Using experimental fast data loading logic. To disable, pass\n",
      "    \"--load_fast=false\" and report issues on GitHub. More details:\n",
      "    https://github.com/tensorflow/tensorboard/issues/4784\n",
      "\n",
      "Serving TensorBoard on localhost; to expose to the network, use a proxy or pass --bind_all\n",
      "TensorBoard 2.9.0 at http://localhost:6006/ (Press CTRL+C to quit)\n",
      "^C\n"
     ]
    }
   ],
   "source": [
    "!tensorboard --logdir=../tensorforce/summaries"
   ]
  },
  {
   "cell_type": "code",
   "execution_count": null,
   "id": "853a2c84",
   "metadata": {},
   "outputs": [],
   "source": []
  }
 ],
 "metadata": {
  "kernelspec": {
   "display_name": "Python 3 (ipykernel)",
   "language": "python",
   "name": "python3"
  },
  "language_info": {
   "codemirror_mode": {
    "name": "ipython",
    "version": 3
   },
   "file_extension": ".py",
   "mimetype": "text/x-python",
   "name": "python",
   "nbconvert_exporter": "python",
   "pygments_lexer": "ipython3",
   "version": "3.8.13"
  }
 },
 "nbformat": 4,
 "nbformat_minor": 5
}
