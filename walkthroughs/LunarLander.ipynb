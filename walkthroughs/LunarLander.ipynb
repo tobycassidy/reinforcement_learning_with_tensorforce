{
 "cells": [
  {
   "cell_type": "code",
   "execution_count": 1,
   "id": "b78401b6",
   "metadata": {},
   "outputs": [],
   "source": [
    "from tensorforce.environments import Environment \n",
    "from tensorforce.agents import Agent\n",
    "from tensorforce.execution import Runner "
   ]
  },
  {
   "cell_type": "markdown",
   "id": "8b8991be",
   "metadata": {},
   "source": [
    "### Intro to LunarLander"
   ]
  },
  {
   "cell_type": "code",
   "execution_count": null,
   "id": "13522218",
   "metadata": {},
   "outputs": [],
   "source": []
  },
  {
   "cell_type": "code",
   "execution_count": null,
   "id": "64afe985",
   "metadata": {},
   "outputs": [],
   "source": []
  },
  {
   "cell_type": "markdown",
   "id": "fbee0fb9",
   "metadata": {},
   "source": [
    "### Initializing an Environment (with monitoring) \n",
    "\n",
    "Note I needed to `brew install ffmpeg` on my machine for monitoring to work "
   ]
  },
  {
   "cell_type": "code",
   "execution_count": 2,
   "id": "46af14a1",
   "metadata": {},
   "outputs": [],
   "source": [
    "level = 'LunarLander-v2'\n",
    "\n",
    "\n",
    "environment = Environment.create(\n",
    "    environment='gym',\n",
    "    level=level,\n",
    "    max_episode_timesteps=700,\n",
    "    visualize=True,\n",
    "    visualize_directory='../tensorforce/monitor/' + level \n",
    ")"
   ]
  },
  {
   "cell_type": "markdown",
   "id": "17fd606d",
   "metadata": {},
   "source": [
    "### Initializing an Agent "
   ]
  },
  {
   "cell_type": "code",
   "execution_count": 3,
   "id": "d39ef9c0",
   "metadata": {},
   "outputs": [
    {
     "name": "stderr",
     "output_type": "stream",
     "text": [
      "WARNING:root:No min_value bound specified for state.\n"
     ]
    }
   ],
   "source": [
    "agent = Agent.create(\n",
    "    agent='tensorforce',\n",
    "    environment=environment,\n",
    "    update=64,\n",
    "    optimizer=dict(optimizer='adam', learning_rate=1e-3),\n",
    "    objective='policy_gradient',\n",
    "    reward_estimation=dict(horizon=20),\n",
    "    summarizer=dict(\n",
    "        directory='../tensorforce/summaries',\n",
    "        summaries='all'\n",
    "    )\n",
    ")"
   ]
  },
  {
   "cell_type": "markdown",
   "id": "cf6e9eda",
   "metadata": {},
   "source": [
    "### Execution with the Runner Utility"
   ]
  },
  {
   "cell_type": "code",
   "execution_count": 4,
   "id": "7d61061f",
   "metadata": {},
   "outputs": [
    {
     "data": {
      "application/vnd.jupyter.widget-view+json": {
       "model_id": "d24653d87277480dafc10eb0a103733b",
       "version_major": 2,
       "version_minor": 0
      },
      "text/plain": [
       "Episodes:   0%|          | 0/2000 [00:00, return=0.00, ts/ep=0, sec/ep=0.00, ms/ts=0.0, agent=0.0%]"
      ]
     },
     "metadata": {},
     "output_type": "display_data"
    },
    {
     "data": {
      "application/vnd.jupyter.widget-view+json": {
       "model_id": "94a4bf56b4bf4e1eaf0c154874c2870d",
       "version_major": 2,
       "version_minor": 0
      },
      "text/plain": [
       "Episodes:   0%|          | 0/100 [00:00, return=0.00, ts/ep=0, sec/ep=0.00, ms/ts=0.0, agent=0.0%]"
      ]
     },
     "metadata": {},
     "output_type": "display_data"
    }
   ],
   "source": [
    "runner = Runner(\n",
    "    agent=agent,\n",
    "    environment=environment,\n",
    "    max_episode_timesteps=700\n",
    ")\n",
    "\n",
    "runner.run(num_episodes=2000)\n",
    "\n",
    "runner.run(num_episodes=100, evaluation=True)\n",
    "\n",
    "runner.close()"
   ]
  },
  {
   "cell_type": "code",
   "execution_count": 5,
   "id": "5f86d721",
   "metadata": {},
   "outputs": [
    {
     "name": "stdout",
     "output_type": "stream",
     "text": [
      "\n",
      "NOTE: Using experimental fast data loading logic. To disable, pass\n",
      "    \"--load_fast=false\" and report issues on GitHub. More details:\n",
      "    https://github.com/tensorflow/tensorboard/issues/4784\n",
      "\n",
      "Serving TensorBoard on localhost; to expose to the network, use a proxy or pass --bind_all\n",
      "TensorBoard 2.9.0 at http://localhost:6006/ (Press CTRL+C to quit)\n",
      "^C\n"
     ]
    }
   ],
   "source": [
    "!tensorboard --logdir=../tensorforce/summaries"
   ]
  },
  {
   "cell_type": "code",
   "execution_count": null,
   "id": "2d3a2784",
   "metadata": {},
   "outputs": [],
   "source": []
  }
 ],
 "metadata": {
  "kernelspec": {
   "display_name": "Python 3 (ipykernel)",
   "language": "python",
   "name": "python3"
  },
  "language_info": {
   "codemirror_mode": {
    "name": "ipython",
    "version": 3
   },
   "file_extension": ".py",
   "mimetype": "text/x-python",
   "name": "python",
   "nbconvert_exporter": "python",
   "pygments_lexer": "ipython3",
   "version": "3.8.13"
  }
 },
 "nbformat": 4,
 "nbformat_minor": 5
}
