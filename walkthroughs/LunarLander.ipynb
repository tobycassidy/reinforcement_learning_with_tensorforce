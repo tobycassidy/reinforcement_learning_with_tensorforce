{
 "cells": [
  {
   "cell_type": "code",
   "execution_count": null,
   "id": "f83a43cf",
   "metadata": {},
   "outputs": [],
   "source": [
    "from tensorforce.environments import Environment \n",
    "from tensorforce.agents import Agent\n",
    "from tensorforce.execution import Runner "
   ]
  },
  {
   "cell_type": "markdown",
   "id": "b06ffcb6",
   "metadata": {},
   "source": [
    "### Brief Intro to LunarLander\n",
    "---\n",
    "LunarLander is a 2D game in which an agent has control of a lunar module and the goal is to land this module inbetween two flags by engaging thrusters (with noisy outcomes) and consuming fuel.\n",
    "\n",
    "The state has 8 components:\n",
    "\n",
    "    - position (horizontal and vertical)\n",
    "    - velocity (horizontal and vertical)\n",
    "    - angle and angular velocity\n",
    "    - left and right leg contact \n",
    "    \n",
    "The agent can take 4 actions:\n",
    "\n",
    "    - do nothing\n",
    "    - fire main engine (push up)\n",
    "    - fire left engine (push right)\n",
    "    - fire right engine (push left)\n",
    "    \n",
    "Initialization starts with the lunar module at the top of the screen with a random initial velocity and the landing pad always at coordinates (0, 0).\n",
    "\n",
    "Rewards:\n",
    "\n",
    "    - crashes or comes to rest (-100 or +100 points)\n",
    "    - leg ground contact (+10 points for each leg)\n",
    "    - firing main engine (-0.3 points for each frame)\n",
    "    - firing side engine (-0.03 points for each frame)\n"
   ]
  },
  {
   "cell_type": "markdown",
   "id": "2d665601",
   "metadata": {},
   "source": [
    "### Initializing an Environment (with monitoring) \n",
    "---\n",
    "\n",
    "Note I needed to `brew install ffmpeg` on my machine for monitoring to work "
   ]
  },
  {
   "cell_type": "code",
   "execution_count": null,
   "id": "e38770bc",
   "metadata": {},
   "outputs": [],
   "source": [
    "level = 'LunarLander-v2'\n",
    "\n",
    "\n",
    "environment = Environment.create(\n",
    "    environment='gym',\n",
    "    level=level,\n",
    "    max_episode_timesteps=500, \n",
    "    terminal_reward=50, # reward for finishing before max_episode_timesteps (encouraging landing not hovering)\n",
    "                        # if this is too high we are encouraging crashes\n",
    "    visualize=True,\n",
    "    visualize_directory='../tensorforce/monitor/' + level \n",
    ")"
   ]
  },
  {
   "cell_type": "markdown",
   "id": "46862dba",
   "metadata": {},
   "source": [
    "### Initializing an Agent \n",
    "---"
   ]
  },
  {
   "cell_type": "code",
   "execution_count": null,
   "id": "aa89d45a",
   "metadata": {},
   "outputs": [],
   "source": [
    "agent = Agent.create(\n",
    "    agent='tensorforce',\n",
    "    environment=environment,\n",
    "    update=64,\n",
    "    optimizer=dict(optimizer='adam', learning_rate=5e-4), # lower learning rate than CartPole solution\n",
    "    objective='policy_gradient',\n",
    "    reward_estimation=dict(horizon=20),\n",
    "    summarizer=dict(\n",
    "        directory='../tensorforce/summaries',\n",
    "        summaries='all'\n",
    "    )\n",
    ")"
   ]
  },
  {
   "cell_type": "markdown",
   "id": "036b9bd0",
   "metadata": {},
   "source": [
    "### Execution with the Runner Utility\n",
    "---"
   ]
  },
  {
   "cell_type": "code",
   "execution_count": null,
   "id": "1c762e99",
   "metadata": {},
   "outputs": [],
   "source": [
    "runner = Runner(\n",
    "    agent=agent,\n",
    "    environment=environment,\n",
    "    max_episode_timesteps=500 \n",
    ")\n",
    "\n",
    "runner.run(num_episodes=2000) # higher num_episodes than CartPole solution\n",
    "\n",
    "runner.run(num_episodes=100, evaluation=True)\n",
    "\n",
    "runner.close()"
   ]
  },
  {
   "cell_type": "code",
   "execution_count": null,
   "id": "acff210c",
   "metadata": {},
   "outputs": [],
   "source": [
    "!tensorboard --logdir=../tensorforce/summaries"
   ]
  },
  {
   "cell_type": "code",
   "execution_count": null,
   "id": "ddefaa16",
   "metadata": {},
   "outputs": [],
   "source": []
  }
 ],
 "metadata": {
  "kernelspec": {
   "display_name": "Python 3 (ipykernel)",
   "language": "python",
   "name": "python3"
  },
  "language_info": {
   "codemirror_mode": {
    "name": "ipython",
    "version": 3
   },
   "file_extension": ".py",
   "mimetype": "text/x-python",
   "name": "python",
   "nbconvert_exporter": "python",
   "pygments_lexer": "ipython3",
   "version": "3.8.13"
  }
 },
 "nbformat": 4,
 "nbformat_minor": 5
}
