{
 "cells": [
  {
   "cell_type": "code",
   "execution_count": 1,
   "id": "5b9fb996",
   "metadata": {},
   "outputs": [],
   "source": [
    "from tensorforce.environments import Environment \n",
    "from tensorforce.agents import Agent\n",
    "from tensorforce.execution import Runner "
   ]
  },
  {
   "cell_type": "markdown",
   "id": "5e407419",
   "metadata": {},
   "source": [
    "### Intro to LunarLander"
   ]
  },
  {
   "cell_type": "code",
   "execution_count": null,
   "id": "86c1b78b",
   "metadata": {},
   "outputs": [],
   "source": []
  },
  {
   "cell_type": "code",
   "execution_count": null,
   "id": "2272e5c3",
   "metadata": {},
   "outputs": [],
   "source": []
  },
  {
   "cell_type": "markdown",
   "id": "e08325f3",
   "metadata": {},
   "source": [
    "### Initializing an Environment (with monitoring) \n",
    "\n",
    "Note I needed to `brew install ffmpeg` on my machine for monitoring to work "
   ]
  },
  {
   "cell_type": "code",
   "execution_count": 2,
   "id": "7962de75",
   "metadata": {},
   "outputs": [],
   "source": [
    "level = 'LunarLander-v2'\n",
    "\n",
    "\n",
    "environment = Environment.create(\n",
    "    environment='gym',\n",
    "    level=level,\n",
    "    max_episode_timesteps=500,\n",
    "    visualize=True,\n",
    "    visualize_directory='../tensorforce/monitor/' + level \n",
    ")"
   ]
  },
  {
   "cell_type": "markdown",
   "id": "4eab1b18",
   "metadata": {},
   "source": [
    "### Initializing an Agent "
   ]
  },
  {
   "cell_type": "code",
   "execution_count": 3,
   "id": "2c93fffd",
   "metadata": {},
   "outputs": [
    {
     "name": "stderr",
     "output_type": "stream",
     "text": [
      "WARNING:root:No min_value bound specified for state.\n"
     ]
    }
   ],
   "source": [
    "agent = Agent.create(\n",
    "    agent='tensorforce',\n",
    "    environment=environment,\n",
    "    update=64,\n",
    "    optimizer=dict(optimizer='adam', learning_rate=1e-3),\n",
    "    objective='policy_gradient',\n",
    "    reward_estimation=dict(horizon=20),\n",
    "    summarizer=dict(\n",
    "        directory='../tensorforce/summaries',\n",
    "        summaries='all'\n",
    "    )\n",
    ")"
   ]
  },
  {
   "cell_type": "markdown",
   "id": "00e29b28",
   "metadata": {},
   "source": [
    "### Execution with the Runner Utility"
   ]
  },
  {
   "cell_type": "code",
   "execution_count": null,
   "id": "8aafe469",
   "metadata": {},
   "outputs": [],
   "source": [
    "runner = Runner(\n",
    "    agent=agent,\n",
    "    environment=environment,\n",
    "    max_episode_timesteps=500\n",
    ")\n",
    "\n",
    "runner.run(num_episodes=1000)\n",
    "\n",
    "runner.run(num_episodes=100, evaluation=True)\n",
    "\n",
    "runner.close()"
   ]
  },
  {
   "cell_type": "code",
   "execution_count": null,
   "id": "d3a68239",
   "metadata": {},
   "outputs": [],
   "source": [
    "!tensorboard --logdir=../tensorforce/summaries"
   ]
  }
 ],
 "metadata": {
  "kernelspec": {
   "display_name": "Python 3 (ipykernel)",
   "language": "python",
   "name": "python3"
  },
  "language_info": {
   "codemirror_mode": {
    "name": "ipython",
    "version": 3
   },
   "file_extension": ".py",
   "mimetype": "text/x-python",
   "name": "python",
   "nbconvert_exporter": "python",
   "pygments_lexer": "ipython3",
   "version": "3.8.13"
  }
 },
 "nbformat": 4,
 "nbformat_minor": 5
}
